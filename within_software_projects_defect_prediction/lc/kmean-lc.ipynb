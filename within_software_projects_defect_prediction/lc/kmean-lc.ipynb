{
 "cells": [
  {
   "cell_type": "code",
   "execution_count": 88,
   "metadata": {},
   "outputs": [],
   "source": [
    "import tarfile\n",
    "import urllib\n",
    "import numpy as np\n",
    "import matplotlib.pyplot as plt\n",
    "import pandas as pd\n",
    "import seaborn as sns\n",
    "from sklearn.cluster import KMeans\n",
    "from sklearn.decomposition import PCA\n",
    "from sklearn.metrics import silhouette_score, adjusted_rand_score\n",
    "from sklearn.pipeline import Pipeline\n",
    "from sklearn.preprocessing import LabelEncoder, MinMaxScaler"
   ]
  },
  {
   "cell_type": "code",
   "execution_count": 103,
   "metadata": {},
   "outputs": [
    {
     "name": "stdout",
     "output_type": "stream",
     "text": [
      "<class 'pandas.core.frame.DataFrame'>\n",
      "RangeIndex: 691 entries, 0 to 690\n",
      "Data columns (total 63 columns):\n",
      " #   Column                               Non-Null Count  Dtype  \n",
      "---  ------                               --------------  -----  \n",
      " 0   id                                   691 non-null    int64  \n",
      " 1   ck_oo_numberOfPrivateMethods         691 non-null    int64  \n",
      " 2   LDHH_lcom                            691 non-null    float64\n",
      " 3   LDHH_fanIn                           691 non-null    float64\n",
      " 4   numberOfNonTrivialBugsFoundUntil:    691 non-null    int64  \n",
      " 5   WCHU_numberOfPublicAttributes        691 non-null    float64\n",
      " 6   WCHU_numberOfAttributes              691 non-null    float64\n",
      " 7   CvsWEntropy                          691 non-null    float64\n",
      " 8   LDHH_numberOfPublicMethods           691 non-null    float64\n",
      " 9   WCHU_fanIn                           691 non-null    float64\n",
      " 10  LDHH_numberOfPrivateAttributes       691 non-null    float64\n",
      " 11  CvsEntropy                           691 non-null    float64\n",
      " 12  LDHH_numberOfPublicAttributes        691 non-null    float64\n",
      " 13  WCHU_numberOfPrivateMethods          691 non-null    float64\n",
      " 14  WCHU_numberOfMethods                 691 non-null    float64\n",
      " 15  ck_oo_numberOfPublicAttributes       691 non-null    int64  \n",
      " 16  ck_oo_noc                            691 non-null    int64  \n",
      " 17  numberOfCriticalBugsFoundUntil:      691 non-null    int64  \n",
      " 18  ck_oo_wmc                            691 non-null    int64  \n",
      " 19  LDHH_numberOfPrivateMethods          691 non-null    float64\n",
      " 20  WCHU_numberOfPrivateAttributes       691 non-null    float64\n",
      " 21  CvsLogEntropy                        691 non-null    float64\n",
      " 22  WCHU_noc                             691 non-null    float64\n",
      " 23  LDHH_numberOfAttributesInherited     691 non-null    float64\n",
      " 24  WCHU_wmc                             691 non-null    float64\n",
      " 25  ck_oo_fanOut                         691 non-null    int64  \n",
      " 26  ck_oo_numberOfLinesOfCode            691 non-null    int64  \n",
      " 27  ck_oo_numberOfAttributesInherited    691 non-null    int64  \n",
      " 28  ck_oo_numberOfMethods                691 non-null    int64  \n",
      " 29  ck_oo_dit                            691 non-null    int64  \n",
      " 30  ck_oo_fanIn                          691 non-null    int64  \n",
      " 31  LDHH_noc                             691 non-null    float64\n",
      " 32  WCHU_dit                             691 non-null    float64\n",
      " 33  ck_oo_lcom                           691 non-null    int64  \n",
      " 34  WCHU_numberOfAttributesInherited     691 non-null    float64\n",
      " 35  ck_oo_rfc                            691 non-null    int64  \n",
      " 36  LDHH_wmc                             691 non-null    float64\n",
      " 37  LDHH_numberOfAttributes              691 non-null    float64\n",
      " 38  LDHH_numberOfLinesOfCode             691 non-null    float64\n",
      " 39  WCHU_fanOut                          691 non-null    float64\n",
      " 40  WCHU_lcom                            691 non-null    float64\n",
      " 41  ck_oo_cbo                            691 non-null    int64  \n",
      " 42  WCHU_rfc                             691 non-null    float64\n",
      " 43  ck_oo_numberOfAttributes             691 non-null    int64  \n",
      " 44  numberOfHighPriorityBugsFoundUntil:  691 non-null    int64  \n",
      " 45  ck_oo_numberOfPrivateAttributes      691 non-null    int64  \n",
      " 46  numberOfMajorBugsFoundUntil:         691 non-null    int64  \n",
      " 47  WCHU_numberOfPublicMethods           691 non-null    float64\n",
      " 48  LDHH_dit                             691 non-null    float64\n",
      " 49  WCHU_cbo                             691 non-null    float64\n",
      " 50  CvsLinEntropy                        691 non-null    float64\n",
      " 51  WCHU_numberOfMethodsInherited        691 non-null    float64\n",
      " 52  numberOfBugsFoundUntil:              691 non-null    int64  \n",
      " 53  LDHH_fanOut                          691 non-null    float64\n",
      " 54  LDHH_numberOfMethodsInherited        691 non-null    float64\n",
      " 55  LDHH_rfc                             691 non-null    float64\n",
      " 56  ck_oo_numberOfMethodsInherited       691 non-null    int64  \n",
      " 57  ck_oo_numberOfPublicMethods          691 non-null    int64  \n",
      " 58  LDHH_cbo                             691 non-null    float64\n",
      " 59  WCHU_numberOfLinesOfCode             691 non-null    float64\n",
      " 60  CvsExpEntropy                        691 non-null    float64\n",
      " 61  LDHH_numberOfMethods                 691 non-null    float64\n",
      " 62  class                                691 non-null    int64  \n",
      "dtypes: float64(39), int64(24)\n",
      "memory usage: 340.2 KB\n",
      "None\n",
      "0      0\n",
      "1      0\n",
      "2      0\n",
      "3      0\n",
      "4      0\n",
      "      ..\n",
      "686    1\n",
      "687    0\n",
      "688    0\n",
      "689    0\n",
      "690    0\n",
      "Name: class, Length: 691, dtype: int64\n",
      "['clean' 'buggy']\n"
     ]
    }
   ],
   "source": [
    "jdt_df = pd.read_csv(\"LC.csv\")\n",
    "jdt_df['class']=jdt_df['class'].map({'clean':0,'buggy':1})\n",
    "print(jdt_df.info())\n",
    "X = jdt_df.iloc[:,1:62]\n",
    "#print(X)\n",
    "True_val=jdt_df.iloc[:,62]\n",
    "print(True_val)\n",
    "#Y['class']=Y['class'].map({'clean':1,'buggy':0})\n",
    "Y=np.array(['clean','buggy'])\n",
    "print(Y[:2])"
   ]
  },
  {
   "cell_type": "code",
   "execution_count": 104,
   "metadata": {},
   "outputs": [
    {
     "data": {
      "text/plain": [
       "array([0, 0, 0, 0, 0, 0, 1, 0, 0, 0, 0, 0, 0, 0, 0, 1, 0, 0, 0, 0, 0, 0,\n",
       "       0, 0, 0, 0, 0, 0, 0, 1, 1, 1, 0, 0, 0, 0, 1, 0, 0, 0, 0, 0, 0, 0,\n",
       "       0, 0, 0, 0, 1, 1, 0, 0, 1, 0, 0, 0, 0, 0, 1, 0, 0, 0, 0, 0, 0, 0,\n",
       "       0, 0, 1, 0, 0, 0, 0, 0, 1, 0, 0, 1, 0, 1, 0, 0, 0, 1, 0, 0, 0, 0,\n",
       "       0, 0, 0, 0, 0, 0, 1, 1, 0, 0, 0, 0, 0, 0, 0, 0, 0, 0, 0, 0, 0, 0,\n",
       "       1, 0, 0, 0, 0, 0, 0, 0, 0, 0, 0, 0, 0, 0, 0, 0, 0, 0, 0, 0, 0, 0,\n",
       "       0, 0, 0, 0, 0, 0, 0, 0, 0, 0, 0, 0, 0, 0, 0, 0, 0, 0, 0, 1, 0, 0,\n",
       "       0, 0, 0, 0, 0, 0, 0, 0, 0, 0, 0, 0, 0, 1, 0, 0, 0, 0, 0, 0, 0, 0,\n",
       "       0, 0, 0, 0, 0, 0, 0, 0, 0, 0, 0, 0, 1, 0, 0, 0, 0, 0, 0, 1, 0, 0,\n",
       "       0, 0, 0, 0, 0, 0, 0, 1, 1, 0, 0, 0, 0, 0, 0, 1, 0, 0, 0, 0, 0, 0,\n",
       "       0, 0, 0, 0, 0, 0, 0, 0, 0, 0, 1, 0, 1, 0, 0, 0, 0, 0, 0, 1, 0, 0,\n",
       "       0, 1, 0, 0, 0, 1, 0, 0, 0, 0, 0, 0, 0, 0, 0, 0, 0, 0, 0, 0, 0, 0,\n",
       "       0, 0, 0, 0, 0, 0, 0, 0, 0, 0, 0, 1, 0, 0, 0, 0, 0, 0, 0, 0, 0, 1,\n",
       "       0, 0, 0, 0, 0, 0, 0, 0, 0, 0, 1, 0, 0, 0, 0, 0, 0, 0, 0, 0, 0, 0,\n",
       "       0, 0, 0, 0, 0, 0, 0, 0, 0, 0, 0, 1, 0, 0, 1, 0, 0, 0, 0, 0, 0, 0,\n",
       "       0, 0, 1, 0, 0, 0, 1, 0, 0, 0, 0, 0, 0, 0, 0, 0, 0, 0, 0, 0, 0, 0,\n",
       "       0, 0, 0, 0, 0, 0, 0, 0, 0, 0, 1, 0, 0, 0, 0, 0, 0, 0, 0, 0, 0, 0,\n",
       "       0, 0, 0, 0, 1, 0, 0, 0, 0, 0, 0, 0, 0, 1, 0, 0, 0, 0, 0, 1, 0, 0,\n",
       "       0, 0, 0, 0, 0, 0, 0, 0, 0, 0, 0, 0, 0, 0, 0, 0, 0, 0, 0, 1, 0, 0,\n",
       "       1, 0, 0, 0, 0, 0, 0, 0, 0, 1, 0, 0, 0, 0, 0, 0, 1, 0, 0, 0, 0, 0,\n",
       "       0, 0, 0, 0, 0, 0, 0, 0, 0, 0, 1, 0, 0, 0, 0, 0, 0, 0, 0, 0, 0, 0,\n",
       "       0, 0, 0, 1, 0, 0, 0, 0, 0, 0, 0, 0, 0, 0, 0, 0, 0, 0, 0, 0, 0, 0,\n",
       "       0, 0, 0, 0, 0, 0, 0, 1, 0, 1, 0, 0, 0, 0, 0, 0, 0, 0, 1, 0, 0, 0,\n",
       "       0, 0, 0, 0, 0, 0, 0, 0, 0, 0, 0, 0, 0, 0, 1, 0, 0, 0, 0, 0, 0, 0,\n",
       "       0, 0, 0, 0, 0, 0, 0, 0, 0, 0, 0, 0, 0, 0, 0, 1, 0, 0, 0, 0, 0, 0,\n",
       "       0, 0, 0, 0, 0, 0, 0, 0, 0, 0, 0, 0, 0, 0, 0, 0, 0, 0, 0, 0, 0, 0,\n",
       "       0, 0, 0, 1, 0, 0, 0, 0, 0, 0, 0, 0, 0, 0, 0, 0, 0, 1, 0, 0, 0, 0,\n",
       "       0, 0, 0, 0, 0, 0, 0, 0, 0, 0, 0, 0, 0, 0, 0, 0, 0, 0, 1, 1, 0, 0,\n",
       "       1, 0, 0, 0, 0, 0, 0, 0, 0, 0, 0, 0, 0, 0, 0, 0, 0, 0, 0, 0, 0, 1,\n",
       "       0, 1, 0, 0, 0, 0, 0, 0, 0, 0, 1, 1, 0, 0, 1, 0, 0, 0, 0, 0, 0, 0,\n",
       "       1, 0, 0, 0, 0, 0, 0, 0, 0, 0, 0, 0, 0, 0, 0, 0, 0, 0, 0, 0, 0, 0,\n",
       "       0, 0, 0, 0, 1, 0, 0, 0, 0], dtype=int64)"
      ]
     },
     "execution_count": 104,
     "metadata": {},
     "output_type": "execute_result"
    }
   ],
   "source": [
    "label_encoder = LabelEncoder()\n",
    "true_labels = label_encoder.fit_transform(True_val)\n",
    "true_labels[:1497]"
   ]
  },
  {
   "cell_type": "code",
   "execution_count": 105,
   "metadata": {},
   "outputs": [
    {
     "data": {
      "text/plain": [
       "array([0, 1], dtype=int64)"
      ]
     },
     "execution_count": 105,
     "metadata": {},
     "output_type": "execute_result"
    }
   ],
   "source": [
    "label_encoder.classes_"
   ]
  },
  {
   "cell_type": "code",
   "execution_count": 106,
   "metadata": {},
   "outputs": [],
   "source": [
    "n_clusters = len(label_encoder.classes_)"
   ]
  },
  {
   "cell_type": "code",
   "execution_count": 107,
   "metadata": {},
   "outputs": [],
   "source": [
    "preprocessor = Pipeline(\n",
    "        [\n",
    "            (\"scaler\", MinMaxScaler()),\n",
    "            (\"pca\", PCA(n_components=2, random_state=42)),\n",
    "        ]\n",
    "    )"
   ]
  },
  {
   "cell_type": "code",
   "execution_count": 108,
   "metadata": {},
   "outputs": [],
   "source": [
    "clusterer = Pipeline(\n",
    "       [\n",
    "           (\n",
    "               \"kmeans\",\n",
    "               KMeans(\n",
    "                   n_clusters=n_clusters,\n",
    "                   init=\"k-means++\",\n",
    "                   n_init=50,\n",
    "                   max_iter=500,\n",
    "                   random_state=42,\n",
    "               ),\n",
    "           ),\n",
    "       ]\n",
    "    )"
   ]
  },
  {
   "cell_type": "code",
   "execution_count": 109,
   "metadata": {},
   "outputs": [],
   "source": [
    "pipe = Pipeline(\n",
    "        [\n",
    "            (\"preprocessor\", preprocessor),\n",
    "            (\"clusterer\", clusterer)\n",
    "        ]\n",
    "    )"
   ]
  },
  {
   "cell_type": "code",
   "execution_count": 110,
   "metadata": {},
   "outputs": [
    {
     "data": {
      "text/plain": [
       "Pipeline(memory=None,\n",
       "         steps=[('preprocessor',\n",
       "                 Pipeline(memory=None,\n",
       "                          steps=[('scaler',\n",
       "                                  MinMaxScaler(copy=True,\n",
       "                                               feature_range=(0, 1))),\n",
       "                                 ('pca',\n",
       "                                  PCA(copy=True, iterated_power='auto',\n",
       "                                      n_components=2, random_state=42,\n",
       "                                      svd_solver='auto', tol=0.0,\n",
       "                                      whiten=False))],\n",
       "                          verbose=False)),\n",
       "                ('clusterer',\n",
       "                 Pipeline(memory=None,\n",
       "                          steps=[('kmeans',\n",
       "                                  KMeans(algorithm='auto', copy_x=True,\n",
       "                                         init='k-means++', max_iter=500,\n",
       "                                         n_clusters=2, n_init=50, n_jobs=None,\n",
       "                                         precompute_distances='auto',\n",
       "                                         random_state=42, tol=0.0001,\n",
       "                                         verbose=0))],\n",
       "                          verbose=False))],\n",
       "         verbose=False)"
      ]
     },
     "execution_count": 110,
     "metadata": {},
     "output_type": "execute_result"
    }
   ],
   "source": [
    "pipe.fit(X)"
   ]
  },
  {
   "cell_type": "code",
   "execution_count": 111,
   "metadata": {},
   "outputs": [
    {
     "name": "stdout",
     "output_type": "stream",
     "text": [
      "0.6376577448413147\n",
      "[ 0  0  0  0  0  0 -1  0  0  1  1  0  0  0  0 -1  0  0  0  0  0  0  0  0\n",
      "  0  0  0  0  1 -1 -1  0  0  0  0  0 -1  0  0  0  0  0  1  0  0  0  0  0\n",
      "  0 -1  0  0  0  0  0  0  0  0 -1  0  0  0  0  0  1  0  0  0  0  0  0  0\n",
      "  0  0  0  0  1  0  0 -1  0  0  0 -1  0  0  0  0  0  0  0  0  0  0  0  0\n",
      "  0  0  0  0  0  0  0  1  1  0  0  0  0  0  0  1  0  0  0  0  0  0  0  0\n",
      "  0  0  0  1  0  0  0  0  0  0  0  0  0  0  0  0  0  0  0  0  0  0  0  0\n",
      "  0  0  0  0  0  0  0 -1  0  0  0  0  0  0  0  0  1  0  0  0  0  0  0  0\n",
      "  0  0  0  0  0  0  0  0  0  0  0  1  0  0  0  0  0  0  0  1 -1  0  0  0\n",
      "  1  0  0  0  0  0  1  0  0  0  0  0  0  0  0  0  0  0  0  0  0  0  0  0\n",
      "  0  0  0  0  0  0  0  0  0  0  0  0  0  0  0  0 -1  0  0  0  1  0  0 -1\n",
      "  0  0  0 -1  0  0  0  0  0  0  0  0  0  0  0  0  0  0  0  0  0  0  0  0\n",
      "  0  0  0  0  0  0  0  0  0  0  0 -1  0  1  0  0  0  0  0  0  0 -1  0  0\n",
      "  0  0  0  0  0  0  0  0  0  0  0  0  0  0  0  0  0  0  0  0  0  0  0  0\n",
      "  0  0  0  0  0  0  0 -1  0  0 -1  0  0  0  0  0  0  0  0  0 -1  0  0  0\n",
      " -1  0  0  0  0  0  0  0  0  0  0  0  0  0  0  0  0  0  0  1  1  0  0  1\n",
      "  0  0 -1  0  0  0  0  1  0  0  1  0  0  0  0  1  0  0  0  0  0  0  0  0\n",
      "  0  0  0  0  0  0  0  0  0  0  0  0  0  0  1  0  0  0  0  0  0  0  0  0\n",
      "  0  0  0  1  0  0  0 -1  0  0  0  0  0  0  0  0  0  0  1 -1  0  0  0  0\n",
      "  1  0 -1  0  0  0  0  0  0  0  0  0  0  0  0  0  1  0 -1  0  1  0  0  0\n",
      "  0  0  0  0  0  0  0  0  0  0  0  0  0  0  0  1  0  0  0  0  0  0  0  0\n",
      "  0  0  0  0  0  0  0  0  0  0  0 -1  0 -1  0  0  0  0  0  0  0  0 -1  0\n",
      "  0  0  1  0  0  0  0  0  0  0  0  0  0  0  0  0 -1  0  1  0  0  0  0  0\n",
      "  1  0  0  0  0  0  0  0  0  0  0  0  0  0  0 -1  0  0  0  0  0  0  1  0\n",
      "  0  0  0  0  0  0  0  0  0  0  0  0  0  0  0  0  0  0  0  0  0  0  0 -1\n",
      "  0  0  0  0  0  0  0  0  0  0  0  1  0  0  0  0  0  0  0  0  0  0  1  0\n",
      "  0  0  0  0  0  0  0  0  0  0  0  0  0 -1  0  0 -1  0  0  0  0  0  0  0\n",
      "  0  0  0  0  1  0  1  0  0  0  0  0  0  0  0 -1  0  0  0  0  0  0  0  1\n",
      "  0  0  0  0  0  0  0  0  0  0  0  0 -1  0  0  0  0  0  0  0  1  0  0  0\n",
      "  0  0  0  0  0  0  0  0  0  0  1  0  0  0  0  0  0  1  0]\n"
     ]
    }
   ],
   "source": [
    "preprocessed_data = pipe[\"preprocessor\"].transform(X)\n",
    "\n",
    "predicted_labels = pipe[\"clusterer\"][\"kmeans\"].labels_\n",
    "print(silhouette_score(preprocessed_data, predicted_labels))\n",
    "print(predicted_labels-true_labels)"
   ]
  },
  {
   "cell_type": "code",
   "execution_count": 112,
   "metadata": {},
   "outputs": [
    {
     "data": {
      "text/plain": [
       "0.3180592855753309"
      ]
     },
     "execution_count": 112,
     "metadata": {},
     "output_type": "execute_result"
    }
   ],
   "source": [
    "adjusted_rand_score(true_labels, predicted_labels)"
   ]
  },
  {
   "cell_type": "code",
   "execution_count": 122,
   "metadata": {},
   "outputs": [
    {
     "data": {
      "image/png": "[encoded data removed]",
      "text/plain": [
       "<Figure size 576x576 with 1 Axes>"
      ]
     },
     "metadata": {},
     "output_type": "display_data"
    }
   ],
   "source": [
    "pcadf = pd.DataFrame(\n",
    "        pipe[\"preprocessor\"].transform(X),\n",
    "        columns=[\"component_1\", \"component_2\"],\n",
    "    )\n",
    " \n",
    "pcadf[\"predicted_cluster\"] = pipe[\"clusterer\"][\"kmeans\"].labels_\n",
    "pcadf[\"true_label\"] = label_encoder.inverse_transform(true_labels)\n",
    "\n",
    "plt.style.use(\"fivethirtyeight\")\n",
    "plt.figure(figsize=(8, 8))\n",
    "\n",
    "scat = sns.scatterplot(\n",
    "    \"component_1\",\n",
    "    \"component_2\",\n",
    "    s=50,\n",
    "    data=pcadf,\n",
    "    hue=\"predicted_cluster\",\n",
    "    style=\"true_label\",\n",
    "    palette=\"Set2\",\n",
    ")\n",
    "\n",
    "scat.set_title(\n",
    "    \"Clustering results from LC Data\"\n",
    ")\n",
    "plt.legend(bbox_to_anchor=(1.05, 1), loc=2, borderaxespad=0.0)\n",
    "\n",
    "plt.show()"
   ]
  },
  {
   "cell_type": "code",
   "execution_count": 117,
   "metadata": {},
   "outputs": [
    {
     "name": "stdout",
     "output_type": "stream",
     "text": [
      "original_clean  64\n",
      "original_buggy  627\n"
     ]
    }
   ],
   "source": [
    "#print(true_labels)\n",
    "original_clean=0\n",
    "original_buggy=0\n",
    "j=0\n",
    "while j< len(true_labels):\n",
    "    #print(true_labels[:j].size)\n",
    "    if true_labels[j].size > 0:\n",
    "        if true_labels[j]==1:\n",
    "            original_clean+=1\n",
    "    j+=1\n",
    "original_buggy = len(true_labels) - original_clean\n",
    "print('original_clean ', original_clean)\n",
    "print('original_buggy ', original_buggy)"
   ]
  },
  {
   "cell_type": "code",
   "execution_count": 118,
   "metadata": {},
   "outputs": [
    {
     "name": "stdout",
     "output_type": "stream",
     "text": [
      "predicted_clean  71\n",
      "predicted_buggy  620\n"
     ]
    }
   ],
   "source": [
    "#print(predicted_labels)\n",
    "predicted_clean=0\n",
    "predicted_buggy=0\n",
    "j=0\n",
    "while j < len(predicted_labels):\n",
    "    #print(predicted_labels[:j])\n",
    "    if predicted_labels[j].size > 0:\n",
    "        if predicted_labels[j]==1:\n",
    "            predicted_clean+=1\n",
    "    j+=1\n",
    "predicted_buggy = len(predicted_labels) - predicted_clean\n",
    "print('predicted_clean ', predicted_clean)\n",
    "print('predicted_buggy ', predicted_buggy)"
   ]
  },
  {
   "cell_type": "code",
   "execution_count": 121,
   "metadata": {},
   "outputs": [
    {
     "name": "stdout",
     "output_type": "stream",
     "text": [
      "529\n",
      "Accuracy  0.7655571635311144\n",
      "FN  35\n",
      "FP 42\n",
      "TP  620\n",
      "TN  29\n"
     ]
    }
   ],
   "source": [
    "result=predicted_labels-true_labels\n",
    "#result=result.flatten()\n",
    "#print(result[10])\n",
    "count=0\n",
    "i=100\n",
    "#print(len(result))\n",
    "while i< len(result):\n",
    "    if result[i]==0:\n",
    "        count+=1\n",
    "    i+=1\n",
    "print(count)\n",
    "print('Accuracy ',count/len(result))\n",
    "\n",
    "\n",
    "i=0\n",
    "count=0\n",
    "while i <len(result):\n",
    "    #print(result[i])\n",
    "    if result[i]==-1:\n",
    "        count+=1\n",
    "    i+=1\n",
    "print('FN ',count)  \n",
    "\n",
    "i=0\n",
    "count=0\n",
    "while i <len(result):\n",
    "    #print(result[i])\n",
    "    if result[i]==1:\n",
    "        count+=1\n",
    "    i+=1\n",
    "print('FP',count) \n",
    "\n",
    "i=0\n",
    "count=0\n",
    "while i <len(result):\n",
    "    #print(result[i])\n",
    "    if predicted_labels[i]==0 & true_labels[i]==0:\n",
    "        count+=1\n",
    "    i+=1\n",
    "print('TP ',count) \n",
    "i=0\n",
    "count=0\n",
    "while i <len(result):\n",
    "    #print(result[i])\n",
    "    if predicted_labels[i]==1 & true_labels[i]==1:\n",
    "        count+=1\n",
    "    i+=1\n",
    "print('TN ',count)  "
   ]
  },
  {
   "cell_type": "code",
   "execution_count": null,
   "metadata": {},
   "outputs": [],
   "source": []
  },
  {
   "cell_type": "code",
   "execution_count": null,
   "metadata": {},
   "outputs": [],
   "source": []
  }
 ],
 "metadata": {
  "kernelspec": {
   "display_name": "Python 3",
   "language": "python",
   "name": "python3"
  },
  "language_info": {
   "codemirror_mode": {
    "name": "ipython",
    "version": 3
   },
   "file_extension": ".py",
   "mimetype": "text/x-python",
   "name": "python",
   "nbconvert_exporter": "python",
   "pygments_lexer": "ipython3",
   "version": "3.7.6"
  }
 },
 "nbformat": 4,
 "nbformat_minor": 4
}
