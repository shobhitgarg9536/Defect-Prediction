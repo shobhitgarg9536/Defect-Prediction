{
 "cells": [
  {
   "cell_type": "code",
   "execution_count": 2,
   "metadata": {},
   "outputs": [],
   "source": [
    "import tarfile\n",
    "import urllib\n",
    "import numpy as np\n",
    "import matplotlib.pyplot as plt\n",
    "import pandas as pd\n",
    "import seaborn as sns\n",
    "from sklearn.cluster import KMeans\n",
    "from sklearn.decomposition import PCA\n",
    "from sklearn.metrics import silhouette_score, adjusted_rand_score\n",
    "from sklearn.pipeline import Pipeline\n",
    "from sklearn.preprocessing import LabelEncoder, MinMaxScaler"
   ]
  },
  {
   "cell_type": "code",
   "execution_count": 3,
   "metadata": {},
   "outputs": [
    {
     "name": "stdout",
     "output_type": "stream",
     "text": [
      "<class 'pandas.core.frame.DataFrame'>\n",
      "RangeIndex: 36 entries, 0 to 35\n",
      "Data columns (total 31 columns):\n",
      " #   Column                            Non-Null Count  Dtype  \n",
      "---  ------                            --------------  -----  \n",
      " 0   id                                36 non-null     int64  \n",
      " 1   total_loc                         36 non-null     int64  \n",
      " 2   blank_loc                         36 non-null     int64  \n",
      " 3   comment_loc                       36 non-null     int64  \n",
      " 4   code_and_comment_loc              36 non-null     int64  \n",
      " 5   executable_loc                    36 non-null     int64  \n",
      " 6   unique_operands                   36 non-null     int64  \n",
      " 7   unique_operators                  36 non-null     int64  \n",
      " 8   total_operands                    36 non-null     int64  \n",
      " 9   total_operators                   36 non-null     int64  \n",
      " 10  halstead_vocabulary               36 non-null     int64  \n",
      " 11  halstead_length                   36 non-null     int64  \n",
      " 12  halstead_volume                   36 non-null     int64  \n",
      " 13  halstead_level                    36 non-null     float64\n",
      " 14  halstead_difficulty               36 non-null     float64\n",
      " 15  halstead_effort                   36 non-null     float64\n",
      " 16  halstead_error                    36 non-null     float64\n",
      " 17  halstead_time                     36 non-null     float64\n",
      " 18  branch_count                      36 non-null     int64  \n",
      " 19  decision_count                    36 non-null     int64  \n",
      " 20  call_pairs                        36 non-null     int64  \n",
      " 21  condition_count                   36 non-null     int64  \n",
      " 22  multiple_condition_count          36 non-null     int64  \n",
      " 23  cyclomatic_complexity             36 non-null     int64  \n",
      " 24  cyclomatic_density                36 non-null     float64\n",
      " 25  decision_density                  36 non-null     float64\n",
      " 26  design_complexity                 36 non-null     int64  \n",
      " 27  design_density                    36 non-null     float64\n",
      " 28  normalized_cyclomatic_complexity  36 non-null     float64\n",
      " 29  formal_parameters                 36 non-null     int64  \n",
      " 30  defects                           36 non-null     int64  \n",
      "dtypes: float64(9), int64(22)\n",
      "memory usage: 8.8 KB\n",
      "None\n",
      "0     0\n",
      "1     0\n",
      "2     0\n",
      "3     1\n",
      "4     0\n",
      "5     0\n",
      "6     0\n",
      "7     0\n",
      "8     0\n",
      "9     0\n",
      "10    0\n",
      "11    0\n",
      "12    0\n",
      "13    0\n",
      "14    0\n",
      "15    0\n",
      "16    1\n",
      "17    0\n",
      "18    0\n",
      "19    0\n",
      "20    0\n",
      "21    0\n",
      "22    0\n",
      "23    0\n",
      "24    0\n",
      "25    0\n",
      "26    1\n",
      "27    0\n",
      "28    1\n",
      "29    1\n",
      "30    0\n",
      "31    0\n",
      "32    1\n",
      "33    0\n",
      "34    1\n",
      "35    1\n",
      "Name: defects, dtype: int64\n"
     ]
    }
   ],
   "source": [
    "ar5_df = pd.read_csv(\"ar5.csv\")\n",
    "ar5_df['defects']=ar5_df['defects'].map({True:1,False:0})\n",
    "print(ar5_df.info())\n",
    "X = ar5_df.iloc[:,0:30]\n",
    "#print(X)\n",
    "True_val=ar5_df.iloc[:,30]\n",
    "print(True_val)"
   ]
  },
  {
   "cell_type": "code",
   "execution_count": 4,
   "metadata": {},
   "outputs": [
    {
     "data": {
      "text/plain": [
       "array([0, 0, 0, 1, 0, 0, 0, 0, 0, 0, 0, 0, 0, 0, 0, 0, 1, 0, 0, 0, 0, 0,\n",
       "       0, 0, 0, 0, 1, 0, 1, 1, 0, 0, 1, 0, 1, 1], dtype=int64)"
      ]
     },
     "execution_count": 4,
     "metadata": {},
     "output_type": "execute_result"
    }
   ],
   "source": [
    "label_encoder = LabelEncoder()\n",
    "true_labels = label_encoder.fit_transform(True_val)\n",
    "true_labels[:36]"
   ]
  },
  {
   "cell_type": "code",
   "execution_count": 5,
   "metadata": {},
   "outputs": [
    {
     "data": {
      "text/plain": [
       "array([0, 1], dtype=int64)"
      ]
     },
     "execution_count": 5,
     "metadata": {},
     "output_type": "execute_result"
    }
   ],
   "source": [
    "label_encoder.classes_"
   ]
  },
  {
   "cell_type": "code",
   "execution_count": 6,
   "metadata": {},
   "outputs": [],
   "source": [
    "n_clusters = len(label_encoder.classes_)"
   ]
  },
  {
   "cell_type": "code",
   "execution_count": 7,
   "metadata": {},
   "outputs": [],
   "source": [
    "preprocessor = Pipeline(\n",
    "        [\n",
    "            (\"scaler\", MinMaxScaler()),\n",
    "            (\"pca\", PCA(n_components=2, random_state=42)),\n",
    "        ]\n",
    "    )"
   ]
  },
  {
   "cell_type": "code",
   "execution_count": 8,
   "metadata": {},
   "outputs": [],
   "source": [
    "clusterer = Pipeline(\n",
    "       [\n",
    "           (\n",
    "               \"kmeans\",\n",
    "               KMeans(\n",
    "                   n_clusters=n_clusters,\n",
    "                   init=\"k-means++\",\n",
    "                   n_init=50,\n",
    "                   max_iter=500,\n",
    "                   random_state=42,\n",
    "               ),\n",
    "           ),\n",
    "       ]\n",
    "    )"
   ]
  },
  {
   "cell_type": "code",
   "execution_count": 9,
   "metadata": {},
   "outputs": [],
   "source": [
    "pipe = Pipeline(\n",
    "        [\n",
    "            (\"preprocessor\", preprocessor),\n",
    "            (\"clusterer\", clusterer)\n",
    "        ]\n",
    "    )"
   ]
  },
  {
   "cell_type": "code",
   "execution_count": 10,
   "metadata": {},
   "outputs": [
    {
     "data": {
      "text/plain": [
       "Pipeline(memory=None,\n",
       "         steps=[('preprocessor',\n",
       "                 Pipeline(memory=None,\n",
       "                          steps=[('scaler',\n",
       "                                  MinMaxScaler(copy=True,\n",
       "                                               feature_range=(0, 1))),\n",
       "                                 ('pca',\n",
       "                                  PCA(copy=True, iterated_power='auto',\n",
       "                                      n_components=2, random_state=42,\n",
       "                                      svd_solver='auto', tol=0.0,\n",
       "                                      whiten=False))],\n",
       "                          verbose=False)),\n",
       "                ('clusterer',\n",
       "                 Pipeline(memory=None,\n",
       "                          steps=[('kmeans',\n",
       "                                  KMeans(algorithm='auto', copy_x=True,\n",
       "                                         init='k-means++', max_iter=500,\n",
       "                                         n_clusters=2, n_init=50, n_jobs=None,\n",
       "                                         precompute_distances='auto',\n",
       "                                         random_state=42, tol=0.0001,\n",
       "                                         verbose=0))],\n",
       "                          verbose=False))],\n",
       "         verbose=False)"
      ]
     },
     "execution_count": 10,
     "metadata": {},
     "output_type": "execute_result"
    }
   ],
   "source": [
    "pipe.fit(X)"
   ]
  },
  {
   "cell_type": "code",
   "execution_count": 11,
   "metadata": {},
   "outputs": [
    {
     "name": "stdout",
     "output_type": "stream",
     "text": [
      "0.5642874139929446\n",
      "[ 0  0  0  0  0  0  0  0  0  0  0  0  0  0  0  1  0  0  0  0  0  0  0  0\n",
      "  1  0  0  0  0  0  0  1  0  1  0 -1]\n"
     ]
    }
   ],
   "source": [
    "preprocessed_data = pipe[\"preprocessor\"].transform(X)\n",
    "\n",
    "predicted_labels = pipe[\"clusterer\"][\"kmeans\"].labels_\n",
    "print(silhouette_score(preprocessed_data, predicted_labels))\n",
    "print(predicted_labels-true_labels)"
   ]
  },
  {
   "cell_type": "code",
   "execution_count": 12,
   "metadata": {},
   "outputs": [
    {
     "data": {
      "text/plain": [
       "0.48919809593555474"
      ]
     },
     "execution_count": 12,
     "metadata": {},
     "output_type": "execute_result"
    }
   ],
   "source": [
    "adjusted_rand_score(true_labels, predicted_labels)"
   ]
  },
  {
   "cell_type": "code",
   "execution_count": 13,
   "metadata": {},
   "outputs": [
    {
     "data": {
      "image/png": "[encoded data removed]",
      "text/plain": [
       "<Figure size 576x576 with 1 Axes>"
      ]
     },
     "metadata": {},
     "output_type": "display_data"
    }
   ],
   "source": [
    "pcadf = pd.DataFrame(\n",
    "        pipe[\"preprocessor\"].transform(X),\n",
    "        columns=[\"component_1\", \"component_2\"],\n",
    "    )\n",
    " \n",
    "pcadf[\"predicted_cluster\"] = pipe[\"clusterer\"][\"kmeans\"].labels_\n",
    "pcadf[\"true_label\"] = label_encoder.inverse_transform(true_labels)\n",
    "\n",
    "plt.style.use(\"fivethirtyeight\")\n",
    "plt.figure(figsize=(8, 8))\n",
    "\n",
    "scat = sns.scatterplot(\n",
    "    \"component_1\",\n",
    "    \"component_2\",\n",
    "    s=50,\n",
    "    data=pcadf,\n",
    "    hue=\"predicted_cluster\",\n",
    "    style=\"true_label\",\n",
    "    palette=\"Set2\",\n",
    ")\n",
    "\n",
    "scat.set_title(\n",
    "    \"Clustering results from ar5 Data\"\n",
    ")\n",
    "plt.legend(bbox_to_anchor=(1.05, 1), loc=2, borderaxespad=0.0)\n",
    "\n",
    "plt.show()"
   ]
  },
  {
   "cell_type": "code",
   "execution_count": 17,
   "metadata": {},
   "outputs": [
    {
     "name": "stdout",
     "output_type": "stream",
     "text": [
      "original_clean  8\n",
      "original_buggy  28\n"
     ]
    }
   ],
   "source": [
    "#print(true_labels)\n",
    "original_clean=0\n",
    "original_buggy=0\n",
    "j=0\n",
    "while j < len(true_labels):\n",
    "    #print(true_labels[:j])\n",
    "    if true_labels[j].size > 0:\n",
    "        if true_labels[j]==0:\n",
    "            original_buggy+=1\n",
    "    j+=1\n",
    "original_clean = len(true_labels) - original_buggy\n",
    "print('original_clean ', original_clean)\n",
    "print('original_buggy ', original_buggy)"
   ]
  },
  {
   "cell_type": "code",
   "execution_count": 18,
   "metadata": {},
   "outputs": [
    {
     "name": "stdout",
     "output_type": "stream",
     "text": [
      "predicted_clean  11\n",
      "predicted_buggy  25\n"
     ]
    }
   ],
   "source": [
    "#print(predicted_labels)\n",
    "predicted_clean=0\n",
    "predicted_buggy=0\n",
    "j=0\n",
    "while j < len(predicted_labels):\n",
    "    #print(predicted_labels[:j])\n",
    "    if predicted_labels[j].size > 0:\n",
    "        if predicted_labels[j]==0:\n",
    "            predicted_buggy+=1\n",
    "    j+=1\n",
    "predicted_clean = len(predicted_labels) - predicted_buggy\n",
    "print('predicted_clean ', predicted_clean)\n",
    "print('predicted_buggy ', predicted_buggy)"
   ]
  },
  {
   "cell_type": "code",
   "execution_count": 19,
   "metadata": {},
   "outputs": [
    {
     "name": "stdout",
     "output_type": "stream",
     "text": [
      "Accuracy  0.8611111111111112\n",
      "FN  1\n",
      "FP 4\n",
      "TP  25\n",
      "TN  7\n"
     ]
    }
   ],
   "source": [
    "result=predicted_labels-true_labels\n",
    "count=0\n",
    "i=0\n",
    "while i < len(result):\n",
    "    if result[i]==0:\n",
    "        count+=1\n",
    "    i+=1\n",
    "print('Accuracy ',count/len(result))\n",
    "\n",
    "\n",
    "i=0\n",
    "count=0\n",
    "while i <len(result):\n",
    "    #print(result[i])\n",
    "    if result[i]==-1:\n",
    "        count+=1\n",
    "    i+=1\n",
    "print('FN ',count)  \n",
    "\n",
    "i=0\n",
    "count=0\n",
    "while i <len(result):\n",
    "    #print(result[i])\n",
    "    if result[i]==1:\n",
    "        count+=1\n",
    "    i+=1\n",
    "print('FP',count) \n",
    "\n",
    "i=0\n",
    "count=0\n",
    "while i <len(result):\n",
    "    #print(result[i])\n",
    "    if predicted_labels[i]==0 & true_labels[i]==0:\n",
    "        count+=1\n",
    "    i+=1\n",
    "print('TP ',count) \n",
    "i=0\n",
    "count=0\n",
    "while i <len(result):\n",
    "    #print(result[i])\n",
    "    if predicted_labels[i]==1 & true_labels[i]==1:\n",
    "        count+=1\n",
    "    i+=1\n",
    "print('TN ',count)  "
   ]
  },
  {
   "cell_type": "code",
   "execution_count": null,
   "metadata": {},
   "outputs": [],
   "source": []
  }
 ],
 "metadata": {
  "kernelspec": {
   "display_name": "Python 3",
   "language": "python",
   "name": "python3"
  },
  "language_info": {
   "codemirror_mode": {
    "name": "ipython",
    "version": 3
   },
   "file_extension": ".py",
   "mimetype": "text/x-python",
   "name": "python",
   "nbconvert_exporter": "python",
   "pygments_lexer": "ipython3",
   "version": "3.7.6"
  }
 },
 "nbformat": 4,
 "nbformat_minor": 4
}
