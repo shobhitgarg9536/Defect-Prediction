{
 "cells": [
  {
   "cell_type": "code",
   "execution_count": 1,
   "metadata": {},
   "outputs": [],
   "source": [
    "import tarfile\n",
    "import urllib\n",
    "import numpy as np\n",
    "import matplotlib.pyplot as plt\n",
    "import pandas as pd\n",
    "import seaborn as sns\n",
    "from sklearn.cluster import KMeans\n",
    "from sklearn.decomposition import PCA\n",
    "from sklearn.metrics import silhouette_score, adjusted_rand_score\n",
    "from sklearn.pipeline import Pipeline\n",
    "from sklearn.preprocessing import LabelEncoder, MinMaxScaler"
   ]
  },
  {
   "cell_type": "code",
   "execution_count": 3,
   "metadata": {},
   "outputs": [
    {
     "name": "stdout",
     "output_type": "stream",
     "text": [
      "<class 'pandas.core.frame.DataFrame'>\n",
      "Int64Index: 63 entries, 0 to 62\n",
      "Data columns (total 16 columns):\n",
      " #   Column                 Non-Null Count  Dtype  \n",
      "---  ------                 --------------  -----  \n",
      " 0   AvgLine                63 non-null     float64\n",
      " 1   CountLine              63 non-null     int64  \n",
      " 2   CountLineBlank         63 non-null     int64  \n",
      " 3   CountLineCode          63 non-null     int64  \n",
      " 4   CountLineCodeDecl      63 non-null     int64  \n",
      " 5   CountLineCodeExe       63 non-null     float64\n",
      " 6   CountLineComment       63 non-null     int64  \n",
      " 7   CountSemicolon         63 non-null     int64  \n",
      " 8   CountStmt              63 non-null     float64\n",
      " 9   CountStmtDecl          63 non-null     int64  \n",
      " 10  CountStmtExe           63 non-null     int64  \n",
      " 11  SumCyclomatic          63 non-null     float64\n",
      " 12  SumCyclomaticModified  63 non-null     int64  \n",
      " 13  SumCyclomaticStrict    63 non-null     int64  \n",
      " 14  SumEssential           63 non-null     int64  \n",
      " 15  defects                63 non-null     int64  \n",
      "dtypes: float64(4), int64(12)\n",
      "memory usage: 8.4 KB\n",
      "None\n",
      "0    1\n",
      "1    0\n",
      "2    0\n",
      "3    0\n",
      "4    0\n",
      "Name: defects, dtype: int64\n"
     ]
    }
   ],
   "source": [
    "jdt_df = pd.read_csv(\"ar3_apache.csv\")\n",
    "#jdt_df['class']=jdt_df['class'].map({'clean':1,'buggy':0})\n",
    "print(jdt_df.info())\n",
    "X = jdt_df.iloc[:,0:15]\n",
    "#print(X.head())\n",
    "True_val=jdt_df.iloc[:,15]\n",
    "print(True_val.head())\n",
    "#Y['class']=Y['class'].map({'clean':1,'buggy':0})"
   ]
  },
  {
   "cell_type": "code",
   "execution_count": 5,
   "metadata": {},
   "outputs": [
    {
     "data": {
      "text/plain": [
       "array([1, 0, 0, 0, 0, 0, 0, 0, 0, 0, 0, 0, 0, 0, 0, 0, 0, 0, 0, 0, 0, 0,\n",
       "       0, 0, 0, 0, 0, 0, 0, 0, 0, 0, 0, 0, 0, 0, 0, 0, 0, 1, 0, 0, 0, 0,\n",
       "       0, 0, 0, 0, 0, 0, 0, 1, 1, 1, 0, 0, 0, 1, 1, 0, 0, 0, 1],\n",
       "      dtype=int64)"
      ]
     },
     "execution_count": 5,
     "metadata": {},
     "output_type": "execute_result"
    }
   ],
   "source": [
    "label_encoder = LabelEncoder()\n",
    "true_labels = label_encoder.fit_transform(True_val)\n",
    "true_labels[:63]"
   ]
  },
  {
   "cell_type": "code",
   "execution_count": 6,
   "metadata": {},
   "outputs": [
    {
     "data": {
      "text/plain": [
       "array([0, 1], dtype=int64)"
      ]
     },
     "execution_count": 6,
     "metadata": {},
     "output_type": "execute_result"
    }
   ],
   "source": [
    "label_encoder.classes_"
   ]
  },
  {
   "cell_type": "code",
   "execution_count": 7,
   "metadata": {},
   "outputs": [],
   "source": [
    "n_clusters = len(label_encoder.classes_)"
   ]
  },
  {
   "cell_type": "code",
   "execution_count": 8,
   "metadata": {},
   "outputs": [],
   "source": [
    "preprocessor = Pipeline(\n",
    "        [\n",
    "            (\"scaler\", MinMaxScaler()),\n",
    "            (\"pca\", PCA(n_components=2, random_state=42)),\n",
    "        ]\n",
    "    )"
   ]
  },
  {
   "cell_type": "code",
   "execution_count": 9,
   "metadata": {},
   "outputs": [],
   "source": [
    "clusterer = Pipeline(\n",
    "       [\n",
    "           (\n",
    "               \"kmeans\",\n",
    "               KMeans(\n",
    "                   n_clusters=n_clusters,\n",
    "                   init=\"k-means++\",\n",
    "                   n_init=50,\n",
    "                   max_iter=500,\n",
    "                   random_state=42,\n",
    "               ),\n",
    "           ),\n",
    "       ]\n",
    "    )"
   ]
  },
  {
   "cell_type": "code",
   "execution_count": 10,
   "metadata": {},
   "outputs": [],
   "source": [
    "pipe = Pipeline(\n",
    "        [\n",
    "            (\"preprocessor\", preprocessor),\n",
    "            (\"clusterer\", clusterer)\n",
    "        ]\n",
    "    )"
   ]
  },
  {
   "cell_type": "code",
   "execution_count": 11,
   "metadata": {},
   "outputs": [
    {
     "data": {
      "text/plain": [
       "Pipeline(memory=None,\n",
       "         steps=[('preprocessor',\n",
       "                 Pipeline(memory=None,\n",
       "                          steps=[('scaler',\n",
       "                                  MinMaxScaler(copy=True,\n",
       "                                               feature_range=(0, 1))),\n",
       "                                 ('pca',\n",
       "                                  PCA(copy=True, iterated_power='auto',\n",
       "                                      n_components=2, random_state=42,\n",
       "                                      svd_solver='auto', tol=0.0,\n",
       "                                      whiten=False))],\n",
       "                          verbose=False)),\n",
       "                ('clusterer',\n",
       "                 Pipeline(memory=None,\n",
       "                          steps=[('kmeans',\n",
       "                                  KMeans(algorithm='auto', copy_x=True,\n",
       "                                         init='k-means++', max_iter=500,\n",
       "                                         n_clusters=2, n_init=50, n_jobs=None,\n",
       "                                         precompute_distances='auto',\n",
       "                                         random_state=42, tol=0.0001,\n",
       "                                         verbose=0))],\n",
       "                          verbose=False))],\n",
       "         verbose=False)"
      ]
     },
     "execution_count": 11,
     "metadata": {},
     "output_type": "execute_result"
    }
   ],
   "source": [
    "pipe.fit(X)"
   ]
  },
  {
   "cell_type": "code",
   "execution_count": 12,
   "metadata": {},
   "outputs": [
    {
     "name": "stdout",
     "output_type": "stream",
     "text": [
      "0.7031441830185576\n",
      "[ 0  0  1  0  0  0  0  0  0  0  0  0  0  0  1  0  0  0  0  0  1  0  0  0\n",
      "  0  0  0  0  0  0  0  0  0  0  0  0  0  0  0 -1  0  0  0  0  0  0  0  0\n",
      "  0  1  0  0 -1  0  0  0  0  0  0  0  0  0  0]\n"
     ]
    }
   ],
   "source": [
    "preprocessed_data = pipe[\"preprocessor\"].transform(X)\n",
    "\n",
    "predicted_labels = pipe[\"clusterer\"][\"kmeans\"].labels_\n",
    "print(silhouette_score(preprocessed_data, predicted_labels))\n",
    "print(predicted_labels-true_labels)"
   ]
  },
  {
   "cell_type": "code",
   "execution_count": 13,
   "metadata": {},
   "outputs": [
    {
     "data": {
      "text/plain": [
       "0.5322679813166575"
      ]
     },
     "execution_count": 13,
     "metadata": {},
     "output_type": "execute_result"
    }
   ],
   "source": [
    "adjusted_rand_score(true_labels, predicted_labels)"
   ]
  },
  {
   "cell_type": "code",
   "execution_count": 23,
   "metadata": {},
   "outputs": [
    {
     "data": {
      "image/png": "[encoded data removed]",
      "text/plain": [
       "<Figure size 576x576 with 1 Axes>"
      ]
     },
     "metadata": {},
     "output_type": "display_data"
    }
   ],
   "source": [
    "pcadf = pd.DataFrame(\n",
    "        pipe[\"preprocessor\"].transform(X),\n",
    "        columns=[\"component_1\", \"component_2\"],\n",
    "    )\n",
    " \n",
    "pcadf[\"predicted_cluster\"] = pipe[\"clusterer\"][\"kmeans\"].labels_\n",
    "pcadf[\"true_label\"] = label_encoder.inverse_transform(true_labels)\n",
    "\n",
    "plt.style.use(\"fivethirtyeight\")\n",
    "plt.figure(figsize=(8, 8))\n",
    "\n",
    "scat = sns.scatterplot(\n",
    "    \"component_1\",\n",
    "    \"component_2\",\n",
    "    s=50,\n",
    "    data=pcadf,\n",
    "    hue=\"predicted_cluster\",\n",
    "    style=\"true_label\",\n",
    "    palette=\"Set2\",\n",
    ")\n",
    "\n",
    "scat.set_title(\n",
    "    \"Clustering results from ar3 - apache Data\"\n",
    ")\n",
    "plt.legend(bbox_to_anchor=(1.05, 1), loc=2, borderaxespad=0.0)\n",
    "\n",
    "plt.show()"
   ]
  },
  {
   "cell_type": "code",
   "execution_count": 18,
   "metadata": {},
   "outputs": [
    {
     "name": "stdout",
     "output_type": "stream",
     "text": [
      "original_clean  8\n",
      "original_buggy  55\n"
     ]
    }
   ],
   "source": [
    "#print(true_labels)\n",
    "original_clean=0\n",
    "original_buggy=0\n",
    "j=0\n",
    "while j< len(true_labels):\n",
    "    #print(true_labels[j])\n",
    "    if true_labels[j].size > 0:\n",
    "        if true_labels[j]==1:\n",
    "            original_clean+=1\n",
    "    j+=1\n",
    "original_buggy = len(true_labels) - original_clean\n",
    "print('original_clean ', original_clean)\n",
    "print('original_buggy ', original_buggy)"
   ]
  },
  {
   "cell_type": "code",
   "execution_count": 19,
   "metadata": {},
   "outputs": [
    {
     "name": "stdout",
     "output_type": "stream",
     "text": [
      "predicted_clean  10\n",
      "predicted_buggy  53\n"
     ]
    }
   ],
   "source": [
    "#print(predicted_labels)\n",
    "predicted_clean=0\n",
    "predicted_buggy=0\n",
    "j=0\n",
    "while j <len(predicted_labels):\n",
    "    #print(predicted_labels[:j])\n",
    "    if predicted_labels[j].size > 0:\n",
    "        if predicted_labels[j]==1:\n",
    "            predicted_clean+=1\n",
    "    j+=1\n",
    "predicted_buggy = len(predicted_labels) - predicted_clean\n",
    "print('predicted_clean ', predicted_clean)\n",
    "print('predicted_buggy ', predicted_buggy)"
   ]
  },
  {
   "cell_type": "code",
   "execution_count": 22,
   "metadata": {},
   "outputs": [
    {
     "name": "stdout",
     "output_type": "stream",
     "text": [
      "Accuracy  0.9047619047619048\n",
      "FN  2\n",
      "FP 4\n",
      "TP  53\n",
      "TN  6\n"
     ]
    }
   ],
   "source": [
    "result=predicted_labels-true_labels\n",
    "#result=result.flatten()\n",
    "#print(result[10])\n",
    "count=0\n",
    "i=0\n",
    "#print(len(result))\n",
    "while i < len(result):\n",
    "    if result[i]==0:\n",
    "        count+=1\n",
    "    i+=1\n",
    "print('Accuracy ',count/len(result))\n",
    "\n",
    "i=0\n",
    "count=0\n",
    "while i <len(result):\n",
    "    #print(result[i])\n",
    "    if result[i]==-1:\n",
    "        count+=1\n",
    "    i+=1\n",
    "print('FN ',count)  \n",
    "\n",
    "i=0\n",
    "count=0\n",
    "while i <len(result):\n",
    "    #print(result[i])\n",
    "    if result[i]==1:\n",
    "        count+=1\n",
    "    i+=1\n",
    "print('FP',count) \n",
    "\n",
    "i=0\n",
    "count=0\n",
    "while i <len(result):\n",
    "    #print(result[i])\n",
    "    if predicted_labels[i]==0 & true_labels[i]==0:\n",
    "        count+=1\n",
    "    i+=1\n",
    "print('TP ',count) \n",
    "\n",
    "i=0\n",
    "count=0\n",
    "while i <len(result):\n",
    "    #print(result[i])\n",
    "    if predicted_labels[i]==1 & true_labels[i]==1:\n",
    "        count+=1\n",
    "    i+=1\n",
    "print('TN ',count)  "
   ]
  },
  {
   "cell_type": "code",
   "execution_count": null,
   "metadata": {},
   "outputs": [],
   "source": []
  },
  {
   "cell_type": "code",
   "execution_count": null,
   "metadata": {},
   "outputs": [],
   "source": []
  }
 ],
 "metadata": {
  "kernelspec": {
   "display_name": "Python 3",
   "language": "python",
   "name": "python3"
  },
  "language_info": {
   "codemirror_mode": {
    "name": "ipython",
    "version": 3
   },
   "file_extension": ".py",
   "mimetype": "text/x-python",
   "name": "python",
   "nbconvert_exporter": "python",
   "pygments_lexer": "ipython3",
   "version": "3.7.6"
  }
 },
 "nbformat": 4,
 "nbformat_minor": 4
}
